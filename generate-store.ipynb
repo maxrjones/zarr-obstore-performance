{
 "cells": [
  {
   "cell_type": "code",
   "execution_count": null,
   "id": "9c1a4e8e-5560-4791-9083-1cf21680a001",
   "metadata": {},
   "outputs": [],
   "source": [
    "import fsspec\n",
    "import obstore as obs\n",
    "import s3fs\n",
    "import xarray as xr\n",
    "import zarr\n",
    "\n",
    "print(\"xarray:  \", xr.__version__)\n",
    "print(\"zarr:    \", zarr.__version__)\n",
    "print(\"obstore:    \", obs.__version__)"
   ]
  },
  {
   "cell_type": "code",
   "execution_count": null,
   "id": "8681f4cf-4e44-4721-bdeb-87206ae1bcca",
   "metadata": {},
   "outputs": [],
   "source": [
    "# Parameters\n",
    "url = \"https://nsf-ncar-era5.s3.amazonaws.com/e5.oper.an.pl/194106/e5.oper.an.pl.128_060_pv.ll025sc.1941060100_1941060123.nc\"\n",
    "target_path = \"nasa-veda-scratch/zarr-obstore-test/max/zarr-v3/test-era5-v3-919\"\n",
    "encoding = {\"PV\": {\"chunks\": (1, 1, 721, 1440)}}"
   ]
  },
  {
   "cell_type": "code",
   "execution_count": null,
   "id": "f8ec78cc-4ad8-4c5a-9634-48dd9505d129",
   "metadata": {},
   "outputs": [],
   "source": [
    "# Load data\n",
    "ds = xr.open_dataset(fsspec.open(url).open(), engine=\"h5netcdf\")\n",
    "ds = ds.drop_encoding()\n",
    "dsl = ds.load()"
   ]
  },
  {
   "cell_type": "code",
   "execution_count": null,
   "id": "f0bdc923-6ad0-42e7-b243-9882bcde0b0e",
   "metadata": {},
   "outputs": [],
   "source": [
    "# Write Zarr V3 data with fsspec\n",
    "s3 = s3fs.S3FileSystem(use_listings_cache=False, asynchronous=True)\n",
    "store = zarr.storage.FsspecStore(s3, read_only=False, path=target_path)\n",
    "dsl.to_zarr(store, consolidated=True, zarr_format=3, encoding=encoding, mode=\"w\")"
   ]
  },
  {
   "cell_type": "code",
   "execution_count": null,
   "id": "1d55b476-821a-4efe-b443-08799c18e929",
   "metadata": {},
   "outputs": [],
   "source": []
  }
 ],
 "metadata": {
  "kernelspec": {
   "display_name": "Python 3 (ipykernel)",
   "language": "python",
   "name": "python3"
  },
  "language_info": {
   "codemirror_mode": {
    "name": "ipython",
    "version": 3
   },
   "file_extension": ".py",
   "mimetype": "text/x-python",
   "name": "python",
   "nbconvert_exporter": "python",
   "pygments_lexer": "ipython3",
   "version": "3.11.10"
  }
 },
 "nbformat": 4,
 "nbformat_minor": 5
}
