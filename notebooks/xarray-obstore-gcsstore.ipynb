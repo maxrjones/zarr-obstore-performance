{
 "cells": [
  {
   "cell_type": "code",
   "execution_count": 1,
   "id": "055c09b0-d92a-4b42-807b-19df09ddd33b",
   "metadata": {},
   "outputs": [
    {
     "name": "stdout",
     "output_type": "stream",
     "text": [
      "xarray:   2025.3.2.dev5+g81fe55ad\n",
      "zarr:     3.0.7.dev5+g3b6565bd\n"
     ]
    }
   ],
   "source": [
    "import xarray as xr\n",
    "import zarr\n",
    "from obstore.store import GCSStore\n",
    "from zarr.storage import ObjectStore\n",
    "\n",
    "print(\"xarray:  \", xr.__version__)\n",
    "print(\"zarr:    \", zarr.__version__)"
   ]
  },
  {
   "cell_type": "code",
   "execution_count": 2,
   "id": "2f61c999-db9e-4512-863c-7c3b0be1e37c",
   "metadata": {},
   "outputs": [
    {
     "data": {
      "text/plain": [
       "<donfig.config_obj.ConfigSet at 0x7fbda5bf96d0>"
      ]
     },
     "execution_count": 2,
     "metadata": {},
     "output_type": "execute_result"
    }
   ],
   "source": [
    "zarr.config.set({\"async.concurrency\": 128})"
   ]
  },
  {
   "cell_type": "code",
   "execution_count": 3,
   "id": "0147a150-5e2f-4a33-8ff8-ec049e46ca2e",
   "metadata": {},
   "outputs": [],
   "source": [
    "bucket = \"gcp-public-data-arco-era5\"\n",
    "path = \"ar/full_37-1h-0p25deg-chunk-1.zarr-v3\""
   ]
  },
  {
   "cell_type": "code",
   "execution_count": 4,
   "id": "d2d054f0-2522-49e3-b07d-47fe00f9e2d7",
   "metadata": {},
   "outputs": [
    {
     "name": "stdout",
     "output_type": "stream",
     "text": [
      "CPU times: user 87.8 ms, sys: 34.6 ms, total: 122 ms\n",
      "Wall time: 355 ms\n"
     ]
    }
   ],
   "source": [
    "# Open store with obstore\n",
    "s3store = GCSStore(bucket, prefix=path, skip_signature=True)\n",
    "store = ObjectStore(s3store, read_only=True)\n",
    "%time ds = xr.open_dataset(store, consolidated=True, engine=\"zarr\")"
   ]
  },
  {
   "cell_type": "code",
   "execution_count": 5,
   "id": "cfcd0846-d524-4353-9acd-05286d186f5f",
   "metadata": {},
   "outputs": [
    {
     "data": {
      "text/plain": [
       "array(7.831759, dtype=float32)"
      ]
     },
     "execution_count": 5,
     "metadata": {},
     "output_type": "execute_result"
    }
   ],
   "source": [
    "ds[\"100m_u_component_of_wind\"].sel(\n",
    "    time=slice(ds.attrs[\"valid_time_start\"], ds.attrs[\"valid_time_stop\"])\n",
    ").isel(time=20000, latitude=234, longitude=253).values"
   ]
  }
 ],
 "metadata": {
  "kernelspec": {
   "display_name": "benchmark",
   "language": "python",
   "name": "benchmark"
  },
  "language_info": {
   "codemirror_mode": {
    "name": "ipython",
    "version": 3
   },
   "file_extension": ".py",
   "mimetype": "text/x-python",
   "name": "python",
   "nbconvert_exporter": "python",
   "pygments_lexer": "ipython3",
   "version": "3.13.2"
  }
 },
 "nbformat": 4,
 "nbformat_minor": 5
}
