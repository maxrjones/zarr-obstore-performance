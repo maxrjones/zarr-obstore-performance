{
 "cells": [
  {
   "cell_type": "code",
   "execution_count": 1,
   "id": "9c1a4e8e-5560-4791-9083-1cf21680a001",
   "metadata": {},
   "outputs": [],
   "source": [
    "import zarr\n",
    "import obstore\n",
    "import xarray as xr\n",
    "import fsspec\n",
    "from obstore.store import S3Store\n",
    "from zarr.storage import ObjectStore"
   ]
  },
  {
   "cell_type": "code",
   "execution_count": 2,
   "id": "88daae29-dfa5-437a-b843-d4f4ac0a1a5c",
   "metadata": {},
   "outputs": [
    {
     "name": "stdout",
     "output_type": "stream",
     "text": [
      "3.0.7.dev3+g9e8b50a\n",
      "0.6.0\n"
     ]
    }
   ],
   "source": [
    "print(zarr.__version__)\n",
    "print(obstore.__version__)"
   ]
  },
  {
   "cell_type": "code",
   "execution_count": 3,
   "id": "8681f4cf-4e44-4721-bdeb-87206ae1bcca",
   "metadata": {},
   "outputs": [],
   "source": [
    "bucket = \"nasa-veda-scratch\"\n",
    "path = \"zarr-obstore-test/max/zarr-v3-obstore/test\"\n",
    "# Open store with obstore\n",
    "s3store = S3Store(bucket, prefix=path)\n",
    "store = ObjectStore(s3store)\n",
    "# Write Zarr V3 data with obstore\n",
    "z1 = zarr.create_array(\n",
    "    store=store, shape=(10, 10), chunks=(5, 5), dtype=\"int32\", overwrite=True\n",
    ")\n",
    "z1[:] = 42"
   ]
  },
  {
   "cell_type": "code",
   "execution_count": 4,
   "id": "f8ec78cc-4ad8-4c5a-9634-48dd9505d129",
   "metadata": {},
   "outputs": [],
   "source": [
    "bucket = \"nasa-veda-scratch\"\n",
    "path = \"zarr-obstore-test/max/zarr-v3-obstore/xarray-test\"\n",
    "# Open store with obstore\n",
    "s3store = S3Store(bucket, prefix=path)\n",
    "store = ObjectStore(s3store)"
   ]
  },
  {
   "cell_type": "code",
   "execution_count": 5,
   "id": "f0bdc923-6ad0-42e7-b243-9882bcde0b0e",
   "metadata": {},
   "outputs": [],
   "source": [
    "url = \"https://nsf-ncar-era5.s3.amazonaws.com/e5.oper.an.pl/194106/e5.oper.an.pl.128_060_pv.ll025sc.1941060100_1941060123.nc\"\n",
    "encoding = {\"PV\": {\"chunks\": (1, 1, 721, 1440)}}"
   ]
  },
  {
   "cell_type": "code",
   "execution_count": 6,
   "id": "1d55b476-821a-4efe-b443-08799c18e929",
   "metadata": {},
   "outputs": [],
   "source": [
    "# Load data\n",
    "ds = xr.open_dataset(fsspec.open(url).open(), engine=\"h5netcdf\")\n",
    "ds = ds.drop_encoding().isel(time=slice(0, 2))\n",
    "dsl = ds.load()"
   ]
  },
  {
   "cell_type": "code",
   "execution_count": 7,
   "id": "4d3b0200-e3da-4ea5-aaa2-63272406cc86",
   "metadata": {},
   "outputs": [
    {
     "data": {
      "text/plain": [
       "ObjectStore(object_store://S3Store(bucket=\"nasa-veda-scratch\", prefix=\"zarr-obstore-test/max/zarr-v3-obstore/xarray-test\"))"
      ]
     },
     "execution_count": 7,
     "metadata": {},
     "output_type": "execute_result"
    }
   ],
   "source": [
    "store"
   ]
  },
  {
   "cell_type": "code",
   "execution_count": 8,
   "id": "8b8af1a8-e13c-4718-af56-85de3782a7f5",
   "metadata": {},
   "outputs": [
    {
     "name": "stderr",
     "output_type": "stream",
     "text": [
      "/opt/conda/lib/python3.11/site-packages/zarr/api/asynchronous.py:203: UserWarning: Consolidated metadata is currently not part in the Zarr format 3 specification. It may not be supported by other zarr implementations and may change in the future.\n",
      "  warnings.warn(\n"
     ]
    },
    {
     "data": {
      "text/plain": [
       "<xarray.backends.zarr.ZarrStore at 0x7f70d6860af0>"
      ]
     },
     "execution_count": 8,
     "metadata": {},
     "output_type": "execute_result"
    }
   ],
   "source": [
    "dsl.to_zarr(store, consolidated=True, zarr_format=3, encoding=encoding, mode=\"w\")"
   ]
  },
  {
   "cell_type": "code",
   "execution_count": null,
   "id": "e0ed9ae5-6f67-497a-8615-4555fd6ae860",
   "metadata": {},
   "outputs": [],
   "source": []
  }
 ],
 "metadata": {
  "kernelspec": {
   "display_name": "Python 3 (ipykernel)",
   "language": "python",
   "name": "python3"
  },
  "language_info": {
   "codemirror_mode": {
    "name": "ipython",
    "version": 3
   },
   "file_extension": ".py",
   "mimetype": "text/x-python",
   "name": "python",
   "nbconvert_exporter": "python",
   "pygments_lexer": "ipython3",
   "version": "3.11.10"
  }
 },
 "nbformat": 4,
 "nbformat_minor": 5
}
