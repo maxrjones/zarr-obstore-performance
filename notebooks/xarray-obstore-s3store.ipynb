{
 "cells": [
  {
   "cell_type": "code",
   "execution_count": 1,
   "id": "055c09b0-d92a-4b42-807b-19df09ddd33b",
   "metadata": {},
   "outputs": [
    {
     "name": "stdout",
     "output_type": "stream",
     "text": [
      "xarray:   2025.1.1\n",
      "dask:     2025.1.0\n",
      "zarr:     3.0.5.dev102+g35b0368\n"
     ]
    }
   ],
   "source": [
    "import xarray as xr\n",
    "import zarr\n",
    "import dask\n",
    "from obstore.store import S3Store\n",
    "from zarr.storage import ObjectStore\n",
    "\n",
    "print(\"xarray:  \", xr.__version__)\n",
    "print(\"dask:    \", dask.__version__)\n",
    "print(\"zarr:    \", zarr.__version__)"
   ]
  },
  {
   "cell_type": "code",
   "execution_count": 2,
   "id": "0147a150-5e2f-4a33-8ff8-ec049e46ca2e",
   "metadata": {},
   "outputs": [],
   "source": [
    "bucket = \"nasa-veda-scratch\"\n",
    "path = \"zarr-obstore-test/max/zarr-v3/test-era5-v3-919\""
   ]
  },
  {
   "cell_type": "code",
   "execution_count": 3,
   "id": "f07b21d8-0256-4bc9-b0d0-3365a16c8dcb",
   "metadata": {},
   "outputs": [],
   "source": [
    "# Open store with obstore\n",
    "s3store = S3Store(bucket, prefix=path)\n",
    "store = ObjectStore(s3store, read_only=True)"
   ]
  },
  {
   "cell_type": "code",
   "execution_count": 4,
   "id": "d2d054f0-2522-49e3-b07d-47fe00f9e2d7",
   "metadata": {},
   "outputs": [
    {
     "name": "stdout",
     "output_type": "stream",
     "text": [
      "CPU times: user 550 ms, sys: 60.1 ms, total: 610 ms\n",
      "Wall time: 859 ms\n"
     ]
    }
   ],
   "source": [
    "%time ds = xr.open_dataset(store, consolidated=True, engine=\"zarr\")"
   ]
  },
  {
   "cell_type": "code",
   "execution_count": 5,
   "id": "4a10cb91-7e4e-4349-8463-fce3673e2bd7",
   "metadata": {},
   "outputs": [
    {
     "name": "stdout",
     "output_type": "stream",
     "text": [
      "CPU times: user 17 ms, sys: 779 μs, total: 17.8 ms\n",
      "Wall time: 66.1 ms\n"
     ]
    },
    {
     "data": {
      "text/plain": [
       "array(0.00710905, dtype=float32)"
      ]
     },
     "execution_count": 5,
     "metadata": {},
     "output_type": "execute_result"
    }
   ],
   "source": [
    "%time ds.PV[0, 0, 0, 0].values"
   ]
  },
  {
   "cell_type": "code",
   "execution_count": 6,
   "id": "e64005a3-69b5-4f81-b86e-305b47744953",
   "metadata": {},
   "outputs": [
    {
     "name": "stdout",
     "output_type": "stream",
     "text": [
      "CPU times: user 10.2 s, sys: 2.68 s, total: 12.8 s\n",
      "Wall time: 9.3 s\n"
     ]
    }
   ],
   "source": [
    "%time _ = ds.compute()"
   ]
  },
  {
   "cell_type": "code",
   "execution_count": null,
   "id": "e942c157-ea2f-4706-b635-6bdf4e17cb17",
   "metadata": {},
   "outputs": [],
   "source": []
  }
 ],
 "metadata": {
  "kernelspec": {
   "display_name": "Python 3 (ipykernel)",
   "language": "python",
   "name": "python3"
  },
  "language_info": {
   "codemirror_mode": {
    "name": "ipython",
    "version": 3
   },
   "file_extension": ".py",
   "mimetype": "text/x-python",
   "name": "python",
   "nbconvert_exporter": "python",
   "pygments_lexer": "ipython3",
   "version": "3.11.10"
  }
 },
 "nbformat": 4,
 "nbformat_minor": 5
}
