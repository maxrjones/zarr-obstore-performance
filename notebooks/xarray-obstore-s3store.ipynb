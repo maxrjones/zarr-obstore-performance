{
 "cells": [
  {
   "cell_type": "code",
   "execution_count": 1,
   "id": "055c09b0-d92a-4b42-807b-19df09ddd33b",
   "metadata": {},
   "outputs": [
    {
     "name": "stdout",
     "output_type": "stream",
     "text": [
      "xarray:   2025.3.2.dev2+g52cafdb1\n",
      "dask:     2025.3.0\n",
      "zarr:     3.0.7.dev3+g9e8b50a\n"
     ]
    }
   ],
   "source": [
    "import xarray as xr\n",
    "import zarr\n",
    "import dask\n",
    "from obstore.store import S3Store\n",
    "from zarr.storage import ObjectStore\n",
    "\n",
    "print(\"xarray:  \", xr.__version__)\n",
    "print(\"dask:    \", dask.__version__)\n",
    "print(\"zarr:    \", zarr.__version__)"
   ]
  },
  {
   "cell_type": "code",
   "execution_count": 2,
   "id": "2f61c999-db9e-4512-863c-7c3b0be1e37c",
   "metadata": {},
   "outputs": [
    {
     "data": {
      "text/plain": [
       "<donfig.config_obj.ConfigSet at 0x7f0a5dd5add0>"
      ]
     },
     "execution_count": 2,
     "metadata": {},
     "output_type": "execute_result"
    }
   ],
   "source": [
    "zarr.config.set({\"async.concurrency\": 128})"
   ]
  },
  {
   "cell_type": "code",
   "execution_count": 3,
   "id": "0147a150-5e2f-4a33-8ff8-ec049e46ca2e",
   "metadata": {},
   "outputs": [],
   "source": [
    "bucket = \"nasa-veda-scratch\"\n",
    "path = \"zarr-obstore-test/max/zarr-v3/test-era5-v3-919\""
   ]
  },
  {
   "cell_type": "code",
   "execution_count": 4,
   "id": "f07b21d8-0256-4bc9-b0d0-3365a16c8dcb",
   "metadata": {},
   "outputs": [],
   "source": [
    "# Open store with obstore\n",
    "s3store = S3Store(bucket, prefix=path)\n",
    "store = ObjectStore(s3store, read_only=True)"
   ]
  },
  {
   "cell_type": "code",
   "execution_count": 5,
   "id": "d2d054f0-2522-49e3-b07d-47fe00f9e2d7",
   "metadata": {},
   "outputs": [
    {
     "name": "stdout",
     "output_type": "stream",
     "text": [
      "CPU times: user 606 ms, sys: 82.8 ms, total: 689 ms\n",
      "Wall time: 987 ms\n"
     ]
    }
   ],
   "source": [
    "%time ds = xr.open_dataset(store, consolidated=True, engine=\"zarr\")"
   ]
  },
  {
   "cell_type": "code",
   "execution_count": 6,
   "id": "4a10cb91-7e4e-4349-8463-fce3673e2bd7",
   "metadata": {},
   "outputs": [
    {
     "name": "stdout",
     "output_type": "stream",
     "text": [
      "CPU times: user 10.4 ms, sys: 8.15 ms, total: 18.5 ms\n",
      "Wall time: 40.1 ms\n"
     ]
    },
    {
     "data": {
      "text/plain": [
       "array(0.00710905, dtype=float32)"
      ]
     },
     "execution_count": 6,
     "metadata": {},
     "output_type": "execute_result"
    }
   ],
   "source": [
    "%time ds.PV[0, 0, 0, 0].values"
   ]
  },
  {
   "cell_type": "code",
   "execution_count": 7,
   "id": "e64005a3-69b5-4f81-b86e-305b47744953",
   "metadata": {},
   "outputs": [
    {
     "name": "stdout",
     "output_type": "stream",
     "text": [
      "CPU times: user 3min 33s, sys: 1min 12s, total: 4min 46s\n",
      "Wall time: 37.8 s\n"
     ]
    }
   ],
   "source": [
    "%time _ = ds.compute()"
   ]
  },
  {
   "cell_type": "code",
   "execution_count": null,
   "id": "e942c157-ea2f-4706-b635-6bdf4e17cb17",
   "metadata": {},
   "outputs": [],
   "source": []
  }
 ],
 "metadata": {
  "kernelspec": {
   "display_name": "Python 3 (ipykernel)",
   "language": "python",
   "name": "python3"
  },
  "language_info": {
   "codemirror_mode": {
    "name": "ipython",
    "version": 3
   },
   "file_extension": ".py",
   "mimetype": "text/x-python",
   "name": "python",
   "nbconvert_exporter": "python",
   "pygments_lexer": "ipython3",
   "version": "3.11.10"
  }
 },
 "nbformat": 4,
 "nbformat_minor": 5
}
