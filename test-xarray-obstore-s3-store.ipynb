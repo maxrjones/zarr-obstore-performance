{
 "cells": [
  {
   "cell_type": "code",
   "execution_count": 1,
   "id": "f6fe7d42-91e7-43fb-9c3b-2edda8debe91",
   "metadata": {},
   "outputs": [
    {
     "name": "stdout",
     "output_type": "stream",
     "text": [
      "xarray:   2025.1.1\n",
      "dask:     2024.12.1\n",
      "zarr:     3.0.2.dev54+g4513c79\n"
     ]
    }
   ],
   "source": [
    "import xarray as xr\n",
    "import zarr\n",
    "import dask\n",
    "from obstore.store import S3Store, PrefixStore\n",
    "from zarr.storage.object_store import ObjectStore\n",
    "\n",
    "print(\"xarray:  \", xr.__version__)\n",
    "print(\"dask:    \", dask.__version__)\n",
    "print(\"zarr:    \", zarr.__version__)"
   ]
  },
  {
   "cell_type": "code",
   "execution_count": 2,
   "id": "0147a150-5e2f-4a33-8ff8-ec049e46ca2e",
   "metadata": {},
   "outputs": [],
   "source": [
    "bucket = \"nasa-veda-scratch\"\n",
    "path = \"zarr-obstore-test/max/zarr-v3/test-era5-v3-919\""
   ]
  },
  {
   "cell_type": "code",
   "execution_count": 3,
   "id": "f07b21d8-0256-4bc9-b0d0-3365a16c8dcb",
   "metadata": {},
   "outputs": [],
   "source": [
    "# Open store with obstore\n",
    "s3store = S3Store.from_url(f\"s3://{bucket}\")\n",
    "prefixstore = PrefixStore(s3store, path)\n",
    "store = ObjectStore(prefixstore, read_only=True)"
   ]
  },
  {
   "cell_type": "code",
   "execution_count": 4,
   "id": "d2d054f0-2522-49e3-b07d-47fe00f9e2d7",
   "metadata": {},
   "outputs": [
    {
     "name": "stdout",
     "output_type": "stream",
     "text": [
      "CPU times: user 556 ms, sys: 92.6 ms, total: 648 ms\n",
      "Wall time: 953 ms\n"
     ]
    }
   ],
   "source": [
    "%time ds = xr.open_dataset(store, consolidated=True, engine=\"zarr\")"
   ]
  },
  {
   "cell_type": "code",
   "execution_count": 5,
   "id": "4a10cb91-7e4e-4349-8463-fce3673e2bd7",
   "metadata": {},
   "outputs": [
    {
     "name": "stdout",
     "output_type": "stream",
     "text": [
      "CPU times: user 19.4 ms, sys: 304 μs, total: 19.7 ms\n",
      "Wall time: 69 ms\n"
     ]
    },
    {
     "data": {
      "text/plain": [
       "array(0.00710905, dtype=float32)"
      ]
     },
     "execution_count": 5,
     "metadata": {},
     "output_type": "execute_result"
    }
   ],
   "source": [
    "%time ds.PV[0, 0, 0, 0].values"
   ]
  },
  {
   "cell_type": "code",
   "execution_count": 6,
   "id": "e64005a3-69b5-4f81-b86e-305b47744953",
   "metadata": {},
   "outputs": [
    {
     "name": "stdout",
     "output_type": "stream",
     "text": [
      "CPU times: user 11.3 s, sys: 2.75 s, total: 14.1 s\n",
      "Wall time: 7.48 s\n"
     ]
    }
   ],
   "source": [
    "%time _ = ds.compute()"
   ]
  }
 ],
 "metadata": {
  "kernelspec": {
   "display_name": "Python 3 (ipykernel)",
   "language": "python",
   "name": "python3"
  },
  "language_info": {
   "codemirror_mode": {
    "name": "ipython",
    "version": 3
   },
   "file_extension": ".py",
   "mimetype": "text/x-python",
   "name": "python",
   "nbconvert_exporter": "python",
   "pygments_lexer": "ipython3",
   "version": "3.11.10"
  }
 },
 "nbformat": 4,
 "nbformat_minor": 5
}
