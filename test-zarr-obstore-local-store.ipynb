{
 "cells": [
  {
   "cell_type": "code",
   "execution_count": 4,
   "metadata": {},
   "outputs": [],
   "source": [
    "import zarr\n",
    "import os\n",
    "from obstore.store import LocalStore\n",
    "from zarr.storage.object_store import ObjectStore"
   ]
  },
  {
   "cell_type": "code",
   "execution_count": 2,
   "metadata": {},
   "outputs": [
    {
     "data": {
      "text/plain": [
       "'3.0.0b4.dev114+g264eac6'"
      ]
     },
     "execution_count": 2,
     "metadata": {},
     "output_type": "execute_result"
    }
   ],
   "source": [
    "zarr.__version__"
   ]
  },
  {
   "cell_type": "code",
   "execution_count": 6,
   "metadata": {},
   "outputs": [],
   "source": [
    "cwd = os.getcwd()"
   ]
  },
  {
   "cell_type": "code",
   "execution_count": 8,
   "metadata": {},
   "outputs": [
    {
     "name": "stdout",
     "output_type": "stream",
     "text": [
      "CPU times: user 52 μs, sys: 242 μs, total: 294 μs\n",
      "Wall time: 300 μs\n"
     ]
    }
   ],
   "source": [
    "%%time\n",
    "m = LocalStore(prefix=f\"{cwd}/data\")\n",
    "store = ObjectStore(m)"
   ]
  },
  {
   "cell_type": "code",
   "execution_count": 9,
   "metadata": {},
   "outputs": [],
   "source": [
    "shape = (100, 100)\n",
    "chunks = (10, 10)"
   ]
  },
  {
   "cell_type": "code",
   "execution_count": 10,
   "metadata": {},
   "outputs": [
    {
     "ename": "FileNotFoundError",
     "evalue": "Object at location /Users/max/Documents/Code/maxrjones/zarr-obstore-performance/data/zarr.json not found: No such file or directory (os error 2)",
     "output_type": "error",
     "traceback": [
      "\u001b[0;31m---------------------------------------------------------------------------\u001b[0m",
      "\u001b[0;31mFileNotFoundError\u001b[0m                         Traceback (most recent call last)",
      "File \u001b[0;32m<timed exec>:1\u001b[0m\n",
      "File \u001b[0;32m~/Library/Application Support/hatch/env/virtual/zarr-obstore-performance/Jchw4CAA/obstore/lib/python3.13/site-packages/zarr/api/synchronous.py:871\u001b[0m, in \u001b[0;36mcreate_array\u001b[0;34m(store, name, shape, dtype, chunks, shards, filters, compressors, serializer, fill_value, order, zarr_format, attributes, chunk_key_encoding, dimension_names, storage_options, overwrite, config)\u001b[0m\n\u001b[1;32m    743\u001b[0m \u001b[38;5;28;01mdef\u001b[39;00m\u001b[38;5;250m \u001b[39m\u001b[38;5;21mcreate_array\u001b[39m(\n\u001b[1;32m    744\u001b[0m     store: \u001b[38;5;28mstr\u001b[39m \u001b[38;5;241m|\u001b[39m StoreLike,\n\u001b[1;32m    745\u001b[0m     \u001b[38;5;241m*\u001b[39m,\n\u001b[0;32m   (...)\u001b[0m\n\u001b[1;32m    762\u001b[0m     config: ArrayConfig \u001b[38;5;241m|\u001b[39m ArrayConfigLike \u001b[38;5;241m|\u001b[39m \u001b[38;5;28;01mNone\u001b[39;00m \u001b[38;5;241m=\u001b[39m \u001b[38;5;28;01mNone\u001b[39;00m,\n\u001b[1;32m    763\u001b[0m ) \u001b[38;5;241m-\u001b[39m\u001b[38;5;241m>\u001b[39m Array:\n\u001b[1;32m    764\u001b[0m \u001b[38;5;250m    \u001b[39m\u001b[38;5;124;03m\"\"\"Create an array.\u001b[39;00m\n\u001b[1;32m    765\u001b[0m \n\u001b[1;32m    766\u001b[0m \u001b[38;5;124;03m    This function wraps :func:`zarr.core.array.create_array`.\u001b[39;00m\n\u001b[0;32m   (...)\u001b[0m\n\u001b[1;32m    868\u001b[0m \u001b[38;5;124;03m    <Array memory://140349042942400 shape=(100, 100) dtype=int32>\u001b[39;00m\n\u001b[1;32m    869\u001b[0m \u001b[38;5;124;03m    \"\"\"\u001b[39;00m\n\u001b[1;32m    870\u001b[0m     \u001b[38;5;28;01mreturn\u001b[39;00m Array(\n\u001b[0;32m--> 871\u001b[0m         \u001b[43msync\u001b[49m\u001b[43m(\u001b[49m\n\u001b[1;32m    872\u001b[0m \u001b[43m            \u001b[49m\u001b[43mzarr\u001b[49m\u001b[38;5;241;43m.\u001b[39;49m\u001b[43mcore\u001b[49m\u001b[38;5;241;43m.\u001b[39;49m\u001b[43marray\u001b[49m\u001b[38;5;241;43m.\u001b[39;49m\u001b[43mcreate_array\u001b[49m\u001b[43m(\u001b[49m\n\u001b[1;32m    873\u001b[0m \u001b[43m                \u001b[49m\u001b[43mstore\u001b[49m\u001b[43m,\u001b[49m\n\u001b[1;32m    874\u001b[0m \u001b[43m                \u001b[49m\u001b[43mname\u001b[49m\u001b[38;5;241;43m=\u001b[39;49m\u001b[43mname\u001b[49m\u001b[43m,\u001b[49m\n\u001b[1;32m    875\u001b[0m \u001b[43m                \u001b[49m\u001b[43mshape\u001b[49m\u001b[38;5;241;43m=\u001b[39;49m\u001b[43mshape\u001b[49m\u001b[43m,\u001b[49m\n\u001b[1;32m    876\u001b[0m \u001b[43m                \u001b[49m\u001b[43mdtype\u001b[49m\u001b[38;5;241;43m=\u001b[39;49m\u001b[43mdtype\u001b[49m\u001b[43m,\u001b[49m\n\u001b[1;32m    877\u001b[0m \u001b[43m                \u001b[49m\u001b[43mchunks\u001b[49m\u001b[38;5;241;43m=\u001b[39;49m\u001b[43mchunks\u001b[49m\u001b[43m,\u001b[49m\n\u001b[1;32m    878\u001b[0m \u001b[43m                \u001b[49m\u001b[43mshards\u001b[49m\u001b[38;5;241;43m=\u001b[39;49m\u001b[43mshards\u001b[49m\u001b[43m,\u001b[49m\n\u001b[1;32m    879\u001b[0m \u001b[43m                \u001b[49m\u001b[43mfilters\u001b[49m\u001b[38;5;241;43m=\u001b[39;49m\u001b[43mfilters\u001b[49m\u001b[43m,\u001b[49m\n\u001b[1;32m    880\u001b[0m \u001b[43m                \u001b[49m\u001b[43mcompressors\u001b[49m\u001b[38;5;241;43m=\u001b[39;49m\u001b[43mcompressors\u001b[49m\u001b[43m,\u001b[49m\n\u001b[1;32m    881\u001b[0m \u001b[43m                \u001b[49m\u001b[43mserializer\u001b[49m\u001b[38;5;241;43m=\u001b[39;49m\u001b[43mserializer\u001b[49m\u001b[43m,\u001b[49m\n\u001b[1;32m    882\u001b[0m \u001b[43m                \u001b[49m\u001b[43mfill_value\u001b[49m\u001b[38;5;241;43m=\u001b[39;49m\u001b[43mfill_value\u001b[49m\u001b[43m,\u001b[49m\n\u001b[1;32m    883\u001b[0m \u001b[43m                \u001b[49m\u001b[43morder\u001b[49m\u001b[38;5;241;43m=\u001b[39;49m\u001b[43morder\u001b[49m\u001b[43m,\u001b[49m\n\u001b[1;32m    884\u001b[0m \u001b[43m                \u001b[49m\u001b[43mzarr_format\u001b[49m\u001b[38;5;241;43m=\u001b[39;49m\u001b[43mzarr_format\u001b[49m\u001b[43m,\u001b[49m\n\u001b[1;32m    885\u001b[0m \u001b[43m                \u001b[49m\u001b[43mattributes\u001b[49m\u001b[38;5;241;43m=\u001b[39;49m\u001b[43mattributes\u001b[49m\u001b[43m,\u001b[49m\n\u001b[1;32m    886\u001b[0m \u001b[43m                \u001b[49m\u001b[43mchunk_key_encoding\u001b[49m\u001b[38;5;241;43m=\u001b[39;49m\u001b[43mchunk_key_encoding\u001b[49m\u001b[43m,\u001b[49m\n\u001b[1;32m    887\u001b[0m \u001b[43m                \u001b[49m\u001b[43mdimension_names\u001b[49m\u001b[38;5;241;43m=\u001b[39;49m\u001b[43mdimension_names\u001b[49m\u001b[43m,\u001b[49m\n\u001b[1;32m    888\u001b[0m \u001b[43m                \u001b[49m\u001b[43mstorage_options\u001b[49m\u001b[38;5;241;43m=\u001b[39;49m\u001b[43mstorage_options\u001b[49m\u001b[43m,\u001b[49m\n\u001b[1;32m    889\u001b[0m \u001b[43m                \u001b[49m\u001b[43moverwrite\u001b[49m\u001b[38;5;241;43m=\u001b[39;49m\u001b[43moverwrite\u001b[49m\u001b[43m,\u001b[49m\n\u001b[1;32m    890\u001b[0m \u001b[43m                \u001b[49m\u001b[43mconfig\u001b[49m\u001b[38;5;241;43m=\u001b[39;49m\u001b[43mconfig\u001b[49m\u001b[43m,\u001b[49m\n\u001b[1;32m    891\u001b[0m \u001b[43m            \u001b[49m\u001b[43m)\u001b[49m\n\u001b[1;32m    892\u001b[0m \u001b[43m        \u001b[49m\u001b[43m)\u001b[49m\n\u001b[1;32m    893\u001b[0m     )\n",
      "File \u001b[0;32m~/Library/Application Support/hatch/env/virtual/zarr-obstore-performance/Jchw4CAA/obstore/lib/python3.13/site-packages/zarr/core/sync.py:142\u001b[0m, in \u001b[0;36msync\u001b[0;34m(coro, loop, timeout)\u001b[0m\n\u001b[1;32m    139\u001b[0m return_result \u001b[38;5;241m=\u001b[39m \u001b[38;5;28mnext\u001b[39m(\u001b[38;5;28miter\u001b[39m(finished))\u001b[38;5;241m.\u001b[39mresult()\n\u001b[1;32m    141\u001b[0m \u001b[38;5;28;01mif\u001b[39;00m \u001b[38;5;28misinstance\u001b[39m(return_result, \u001b[38;5;167;01mBaseException\u001b[39;00m):\n\u001b[0;32m--> 142\u001b[0m     \u001b[38;5;28;01mraise\u001b[39;00m return_result\n\u001b[1;32m    143\u001b[0m \u001b[38;5;28;01melse\u001b[39;00m:\n\u001b[1;32m    144\u001b[0m     \u001b[38;5;28;01mreturn\u001b[39;00m return_result\n",
      "File \u001b[0;32m~/Library/Application Support/hatch/env/virtual/zarr-obstore-performance/Jchw4CAA/obstore/lib/python3.13/site-packages/zarr/core/sync.py:98\u001b[0m, in \u001b[0;36m_runner\u001b[0;34m(coro)\u001b[0m\n\u001b[1;32m     93\u001b[0m \u001b[38;5;250m\u001b[39m\u001b[38;5;124;03m\"\"\"\u001b[39;00m\n\u001b[1;32m     94\u001b[0m \u001b[38;5;124;03mAwait a coroutine and return the result of running it. If awaiting the coroutine raises an\u001b[39;00m\n\u001b[1;32m     95\u001b[0m \u001b[38;5;124;03mexception, the exception will be returned.\u001b[39;00m\n\u001b[1;32m     96\u001b[0m \u001b[38;5;124;03m\"\"\"\u001b[39;00m\n\u001b[1;32m     97\u001b[0m \u001b[38;5;28;01mtry\u001b[39;00m:\n\u001b[0;32m---> 98\u001b[0m     \u001b[38;5;28;01mreturn\u001b[39;00m \u001b[38;5;28;01mawait\u001b[39;00m coro\n\u001b[1;32m     99\u001b[0m \u001b[38;5;28;01mexcept\u001b[39;00m \u001b[38;5;167;01mException\u001b[39;00m \u001b[38;5;28;01mas\u001b[39;00m ex:\n\u001b[1;32m    100\u001b[0m     \u001b[38;5;28;01mreturn\u001b[39;00m ex\n",
      "File \u001b[0;32m~/Library/Application Support/hatch/env/virtual/zarr-obstore-performance/Jchw4CAA/obstore/lib/python3.13/site-packages/zarr/core/array.py:3955\u001b[0m, in \u001b[0;36mcreate_array\u001b[0;34m(store, name, shape, dtype, chunks, shards, filters, compressors, serializer, fill_value, order, zarr_format, attributes, chunk_key_encoding, dimension_names, storage_options, overwrite, config)\u001b[0m\n\u001b[1;32m   3952\u001b[0m         chunks_out \u001b[38;5;241m=\u001b[39m chunk_shape_parsed\n\u001b[1;32m   3953\u001b[0m         codecs_out \u001b[38;5;241m=\u001b[39m sub_codecs\n\u001b[0;32m-> 3955\u001b[0m     result \u001b[38;5;241m=\u001b[39m \u001b[38;5;28;01mawait\u001b[39;00m AsyncArray\u001b[38;5;241m.\u001b[39m_create_v3(\n\u001b[1;32m   3956\u001b[0m         store_path\u001b[38;5;241m=\u001b[39mstore_path,\n\u001b[1;32m   3957\u001b[0m         shape\u001b[38;5;241m=\u001b[39mshape_parsed,\n\u001b[1;32m   3958\u001b[0m         dtype\u001b[38;5;241m=\u001b[39mdtype_parsed,\n\u001b[1;32m   3959\u001b[0m         fill_value\u001b[38;5;241m=\u001b[39mfill_value,\n\u001b[1;32m   3960\u001b[0m         attributes\u001b[38;5;241m=\u001b[39mattributes,\n\u001b[1;32m   3961\u001b[0m         chunk_shape\u001b[38;5;241m=\u001b[39mchunks_out,\n\u001b[1;32m   3962\u001b[0m         chunk_key_encoding\u001b[38;5;241m=\u001b[39mchunk_key_encoding_parsed,\n\u001b[1;32m   3963\u001b[0m         codecs\u001b[38;5;241m=\u001b[39mcodecs_out,\n\u001b[1;32m   3964\u001b[0m         dimension_names\u001b[38;5;241m=\u001b[39mdimension_names,\n\u001b[1;32m   3965\u001b[0m         overwrite\u001b[38;5;241m=\u001b[39moverwrite,\n\u001b[1;32m   3966\u001b[0m         config\u001b[38;5;241m=\u001b[39mconfig_parsed,\n\u001b[1;32m   3967\u001b[0m     )\n\u001b[1;32m   3969\u001b[0m \u001b[38;5;28;01mreturn\u001b[39;00m result\n",
      "File \u001b[0;32m~/Library/Application Support/hatch/env/virtual/zarr-obstore-performance/Jchw4CAA/obstore/lib/python3.13/site-packages/zarr/core/array.py:691\u001b[0m, in \u001b[0;36mAsyncArray._create_v3\u001b[0;34m(cls, store_path, shape, dtype, chunk_shape, config, fill_value, chunk_key_encoding, codecs, dimension_names, attributes, overwrite)\u001b[0m\n\u001b[1;32m    689\u001b[0m         \u001b[38;5;28;01mawait\u001b[39;00m ensure_no_existing_node(store_path, zarr_format\u001b[38;5;241m=\u001b[39m\u001b[38;5;241m3\u001b[39m)\n\u001b[1;32m    690\u001b[0m \u001b[38;5;28;01melse\u001b[39;00m:\n\u001b[0;32m--> 691\u001b[0m     \u001b[38;5;28;01mawait\u001b[39;00m ensure_no_existing_node(store_path, zarr_format\u001b[38;5;241m=\u001b[39m\u001b[38;5;241m3\u001b[39m)\n\u001b[1;32m    693\u001b[0m shape \u001b[38;5;241m=\u001b[39m parse_shapelike(shape)\n\u001b[1;32m    694\u001b[0m codecs \u001b[38;5;241m=\u001b[39m \u001b[38;5;28mlist\u001b[39m(codecs) \u001b[38;5;28;01mif\u001b[39;00m codecs \u001b[38;5;129;01mis\u001b[39;00m \u001b[38;5;129;01mnot\u001b[39;00m \u001b[38;5;28;01mNone\u001b[39;00m \u001b[38;5;28;01melse\u001b[39;00m _get_default_codecs(np\u001b[38;5;241m.\u001b[39mdtype(dtype))\n",
      "File \u001b[0;32m~/Library/Application Support/hatch/env/virtual/zarr-obstore-performance/Jchw4CAA/obstore/lib/python3.13/site-packages/zarr/storage/_common.py:362\u001b[0m, in \u001b[0;36mensure_no_existing_node\u001b[0;34m(store_path, zarr_format)\u001b[0m\n\u001b[1;32m    360\u001b[0m     extant_node \u001b[38;5;241m=\u001b[39m \u001b[38;5;28;01mawait\u001b[39;00m _contains_node_v2(store_path)\n\u001b[1;32m    361\u001b[0m \u001b[38;5;28;01melif\u001b[39;00m zarr_format \u001b[38;5;241m==\u001b[39m \u001b[38;5;241m3\u001b[39m:\n\u001b[0;32m--> 362\u001b[0m     extant_node \u001b[38;5;241m=\u001b[39m \u001b[38;5;28;01mawait\u001b[39;00m _contains_node_v3(store_path)\n\u001b[1;32m    364\u001b[0m \u001b[38;5;28;01mif\u001b[39;00m extant_node \u001b[38;5;241m==\u001b[39m \u001b[38;5;124m\"\u001b[39m\u001b[38;5;124marray\u001b[39m\u001b[38;5;124m\"\u001b[39m:\n\u001b[1;32m    365\u001b[0m     \u001b[38;5;28;01mraise\u001b[39;00m ContainsArrayError(store_path\u001b[38;5;241m.\u001b[39mstore, store_path\u001b[38;5;241m.\u001b[39mpath)\n",
      "File \u001b[0;32m~/Library/Application Support/hatch/env/virtual/zarr-obstore-performance/Jchw4CAA/obstore/lib/python3.13/site-packages/zarr/storage/_common.py:391\u001b[0m, in \u001b[0;36m_contains_node_v3\u001b[0;34m(store_path)\u001b[0m\n\u001b[1;32m    375\u001b[0m \u001b[38;5;250m\u001b[39m\u001b[38;5;124;03m\"\"\"\u001b[39;00m\n\u001b[1;32m    376\u001b[0m \u001b[38;5;124;03mCheck if a store_path contains nothing, an array, or a group. This function\u001b[39;00m\n\u001b[1;32m    377\u001b[0m \u001b[38;5;124;03mreturns the string \"array\", \"group\", or \"nothing\" to denote containing an array, a group, or\u001b[39;00m\n\u001b[0;32m   (...)\u001b[0m\n\u001b[1;32m    388\u001b[0m \u001b[38;5;124;03m    A string representing the zarr node found at store_path.\u001b[39;00m\n\u001b[1;32m    389\u001b[0m \u001b[38;5;124;03m\"\"\"\u001b[39;00m\n\u001b[1;32m    390\u001b[0m result: Literal[\u001b[38;5;124m\"\u001b[39m\u001b[38;5;124marray\u001b[39m\u001b[38;5;124m\"\u001b[39m, \u001b[38;5;124m\"\u001b[39m\u001b[38;5;124mgroup\u001b[39m\u001b[38;5;124m\"\u001b[39m, \u001b[38;5;124m\"\u001b[39m\u001b[38;5;124mnothing\u001b[39m\u001b[38;5;124m\"\u001b[39m] \u001b[38;5;241m=\u001b[39m \u001b[38;5;124m\"\u001b[39m\u001b[38;5;124mnothing\u001b[39m\u001b[38;5;124m\"\u001b[39m\n\u001b[0;32m--> 391\u001b[0m extant_meta_bytes \u001b[38;5;241m=\u001b[39m \u001b[38;5;28;01mawait\u001b[39;00m (store_path \u001b[38;5;241m/\u001b[39m ZARR_JSON)\u001b[38;5;241m.\u001b[39mget()\n\u001b[1;32m    392\u001b[0m \u001b[38;5;66;03m# if no metadata document could be loaded, then we just return \"nothing\"\u001b[39;00m\n\u001b[1;32m    393\u001b[0m \u001b[38;5;28;01mif\u001b[39;00m extant_meta_bytes \u001b[38;5;129;01mis\u001b[39;00m \u001b[38;5;129;01mnot\u001b[39;00m \u001b[38;5;28;01mNone\u001b[39;00m:\n",
      "File \u001b[0;32m~/Library/Application Support/hatch/env/virtual/zarr-obstore-performance/Jchw4CAA/obstore/lib/python3.13/site-packages/zarr/storage/_common.py:124\u001b[0m, in \u001b[0;36mStorePath.get\u001b[0;34m(self, prototype, byte_range)\u001b[0m\n\u001b[1;32m    122\u001b[0m \u001b[38;5;28;01mif\u001b[39;00m prototype \u001b[38;5;129;01mis\u001b[39;00m \u001b[38;5;28;01mNone\u001b[39;00m:\n\u001b[1;32m    123\u001b[0m     prototype \u001b[38;5;241m=\u001b[39m default_buffer_prototype()\n\u001b[0;32m--> 124\u001b[0m \u001b[38;5;28;01mreturn\u001b[39;00m \u001b[38;5;28;01mawait\u001b[39;00m \u001b[38;5;28mself\u001b[39m\u001b[38;5;241m.\u001b[39mstore\u001b[38;5;241m.\u001b[39mget(\u001b[38;5;28mself\u001b[39m\u001b[38;5;241m.\u001b[39mpath, prototype\u001b[38;5;241m=\u001b[39mprototype, byte_range\u001b[38;5;241m=\u001b[39mbyte_range)\n",
      "File \u001b[0;32m~/Library/Application Support/hatch/env/virtual/zarr-obstore-performance/Jchw4CAA/obstore/lib/python3.13/site-packages/zarr/storage/object_store.py:82\u001b[0m, in \u001b[0;36mObjectStore.get\u001b[0;34m(self, key, prototype, byte_range)\u001b[0m\n\u001b[1;32m     78\u001b[0m \u001b[38;5;28;01masync\u001b[39;00m \u001b[38;5;28;01mdef\u001b[39;00m\u001b[38;5;250m \u001b[39m\u001b[38;5;21mget\u001b[39m(\n\u001b[1;32m     79\u001b[0m     \u001b[38;5;28mself\u001b[39m, key: \u001b[38;5;28mstr\u001b[39m, prototype: BufferPrototype, byte_range: ByteRequest \u001b[38;5;241m|\u001b[39m \u001b[38;5;28;01mNone\u001b[39;00m \u001b[38;5;241m=\u001b[39m \u001b[38;5;28;01mNone\u001b[39;00m\n\u001b[1;32m     80\u001b[0m ) \u001b[38;5;241m-\u001b[39m\u001b[38;5;241m>\u001b[39m Buffer:\n\u001b[1;32m     81\u001b[0m     \u001b[38;5;28;01mif\u001b[39;00m byte_range \u001b[38;5;129;01mis\u001b[39;00m \u001b[38;5;28;01mNone\u001b[39;00m:\n\u001b[0;32m---> 82\u001b[0m         resp \u001b[38;5;241m=\u001b[39m \u001b[38;5;28;01mawait\u001b[39;00m obs\u001b[38;5;241m.\u001b[39mget_async(\u001b[38;5;28mself\u001b[39m\u001b[38;5;241m.\u001b[39mstore, key)\n\u001b[1;32m     83\u001b[0m         \u001b[38;5;28;01mreturn\u001b[39;00m prototype\u001b[38;5;241m.\u001b[39mbuffer\u001b[38;5;241m.\u001b[39mfrom_bytes(\u001b[38;5;28;01mawait\u001b[39;00m resp\u001b[38;5;241m.\u001b[39mbytes_async())\n\u001b[1;32m     84\u001b[0m     \u001b[38;5;28;01melif\u001b[39;00m \u001b[38;5;28misinstance\u001b[39m(byte_range, RangeByteRequest):\n",
      "\u001b[0;31mFileNotFoundError\u001b[0m: Object at location /Users/max/Documents/Code/maxrjones/zarr-obstore-performance/data/zarr.json not found: No such file or directory (os error 2)"
     ]
    }
   ],
   "source": [
    "%%time\n",
    "z = zarr.create_array(store=store, shape=shape, chunks=chunks, dtype=\"f4\")\n",
    "\n",
    "# write to the array\n",
    "z[:, :] = 42"
   ]
  },
  {
   "cell_type": "code",
   "execution_count": null,
   "metadata": {},
   "outputs": [],
   "source": []
  }
 ],
 "metadata": {
  "kernelspec": {
   "display_name": "obstore",
   "language": "python",
   "name": "python3"
  },
  "language_info": {
   "codemirror_mode": {
    "name": "ipython",
    "version": 3
   },
   "file_extension": ".py",
   "mimetype": "text/x-python",
   "name": "python",
   "nbconvert_exporter": "python",
   "pygments_lexer": "ipython3",
   "version": "3.13.1"
  }
 },
 "nbformat": 4,
 "nbformat_minor": 2
}
